{
 "cells": [
  {
   "cell_type": "code",
   "execution_count": 2,
   "metadata": {},
   "outputs": [],
   "source": [
    "def bmi_calculator():\n",
    "    height = float(input(\"Enter your height in centimeters (cms) \"))\n",
    "\n",
    "    weight = float(input(\"Enter your weight in kg \"))\n",
    "\n",
    "    height = height / 100\n",
    "\n",
    "    BMI = weight / (height ** 2)\n",
    "\n",
    "    print(\"Your Body Mass Index is \",BMI)\n",
    "\n",
    "    if BMI > 0:\n",
    "        if BMI <= 16:\n",
    "            print(\"You are severley underweight\")\n",
    "\n",
    "        elif BMI <= 18:\n",
    "            print(\"You are underweight\")\n",
    "\n",
    "        elif BMI <= 25:\n",
    "            print(\"You are Healthy\")\n",
    "\n",
    "        elif BMI <= 30:\n",
    "            print(\"You are overweight\")\n",
    "\n",
    "        else:\n",
    "            print(\"You are severley overweight\")\n",
    "\n",
    "    else:\n",
    "        print(\"Please enter correct values\")\n",
    "    return BMI"
   ]
  },
  {
   "cell_type": "code",
   "execution_count": 5,
   "metadata": {},
   "outputs": [
    {
     "name": "stdin",
     "output_type": "stream",
     "text": [
      "Enter your height in centimeters (cms)  168\n",
      "Enter your weight in kg  55\n"
     ]
    },
    {
     "name": "stdout",
     "output_type": "stream",
     "text": [
      "Your Body Mass Index is  19.48696145124717\n",
      "You are Healthy\n"
     ]
    }
   ],
   "source": [
    "if __name__ == \"__main__\":\n",
    "    bmi_calculator()"
   ]
  },
  {
   "cell_type": "code",
   "execution_count": 3,
   "metadata": {},
   "outputs": [
    {
     "name": "stdin",
     "output_type": "stream",
     "text": [
      "Enter your height in centimeters (cms)  169\n",
      "Enter your weight in kg  60\n"
     ]
    },
    {
     "name": "stdout",
     "output_type": "stream",
     "text": [
      "Your Body Mass Index is  21.007667798746546\n",
      "You are Healthy\n"
     ]
    },
    {
     "data": {
      "text/plain": [
       "21.007667798746546"
      ]
     },
     "execution_count": 3,
     "metadata": {},
     "output_type": "execute_result"
    }
   ],
   "source": [
    "bmi_calculator()"
   ]
  },
  {
   "cell_type": "code",
   "execution_count": null,
   "metadata": {},
   "outputs": [],
   "source": []
  }
 ],
 "metadata": {
  "kernelspec": {
   "display_name": "Python 3 (ipykernel)",
   "language": "python",
   "name": "python3"
  },
  "language_info": {
   "codemirror_mode": {
    "name": "ipython",
    "version": 3
   },
   "file_extension": ".py",
   "mimetype": "text/x-python",
   "name": "python",
   "nbconvert_exporter": "python",
   "pygments_lexer": "ipython3",
   "version": "3.9.13"
  },
  "vscode": {
   "interpreter": {
    "hash": "916dbcbb3f70747c44a77c7bcd40155683ae19c65e1c03b4aa3499c5328201f1"
   }
  }
 },
 "nbformat": 4,
 "nbformat_minor": 4
}
