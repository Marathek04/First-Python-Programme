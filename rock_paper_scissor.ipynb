{
 "cells": [
  {
   "cell_type": "code",
   "execution_count": null,
   "metadata": {},
   "outputs": [
    {
     "name": "stdin",
     "output_type": "stream",
     "text": [
      "Enter your choose rock/paper/scissors:  paper\n"
     ]
    },
    {
     "name": "stdout",
     "output_type": "stream",
     "text": [
      "Computer choose: \n",
      "You Wins!\n"
     ]
    },
    {
     "name": "stdin",
     "output_type": "stream",
     "text": [
      "Do you want to play again y/n:  y\n",
      "Enter your choose rock/paper/scissors:  scissor\n",
      "scissor not valid. Please choose between rock/paper/scissors:  scissors\n"
     ]
    },
    {
     "name": "stdout",
     "output_type": "stream",
     "text": [
      "Computer choose: paper\n",
      "You Win!\n"
     ]
    },
    {
     "name": "stdin",
     "output_type": "stream",
     "text": [
      "Do you want to play again y/n:  y\n"
     ]
    }
   ],
   "source": [
    "import random\n",
    "while True:\n",
    "    user_choose = input(\"Enter your choose rock/paper/scissors: \")\n",
    "    user_choose = user_choose.lower()\n",
    "    while user_choose != \"paper\" and user_choose != \"rock\" and user_choose != \"scissors\":\n",
    "        user_choose = input(\"{} not valid. Please choose between rock/paper/scissors: \".format(user_choose))\n",
    "        user_choose = user_choose.lower()\n",
    "\n",
    "    computer_choose = ''\n",
    "    choose = random.randint(0, 3)\n",
    "    if choose == 1:\n",
    "        computer_choose = \"rock\"\n",
    "    elif choose == 2:\n",
    "        computer_choose = \"paper\"\n",
    "    elif choose == 3:\n",
    "        computer_choose = \"scissors\"\n",
    "\n",
    "    print(f\"Computer choose: {computer_choose}\")\n",
    "\n",
    "    if user_choose == computer_choose:\n",
    "        print(\"Draw\")\n",
    "    elif user_choose == \"rock\":\n",
    "        if computer_choose == \"paper\":\n",
    "            print(\"You Wins!\")\n",
    "        else:\n",
    "            print(\"Computer Wins!\")\n",
    "    elif user_choose == \"paper\":\n",
    "        if computer_choose == \"rock\":\n",
    "            print(\"Computer Win!\")\n",
    "        else:\n",
    "            print(\"You Wins!\")\n",
    "    elif user_choose == \"scissors\":\n",
    "        if computer_choose == \"rock\":\n",
    "            print(\"Computer Wins!\")\n",
    "        else:\n",
    "            print(\"You Win!\")\n",
    "\n",
    "    play = input(\"Do you want to play again y/n: \")\n",
    "\n",
    "    if play == 'n' or play == 'N':\n",
    "        break"
   ]
  },
  {
   "cell_type": "code",
   "execution_count": null,
   "metadata": {},
   "outputs": [],
   "source": []
  }
 ],
 "metadata": {
  "kernelspec": {
   "display_name": "Python 3 (ipykernel)",
   "language": "python",
   "name": "python3"
  },
  "language_info": {
   "codemirror_mode": {
    "name": "ipython",
    "version": 3
   },
   "file_extension": ".py",
   "mimetype": "text/x-python",
   "name": "python",
   "nbconvert_exporter": "python",
   "pygments_lexer": "ipython3",
   "version": "3.9.13"
  },
  "vscode": {
   "interpreter": {
    "hash": "916dbcbb3f70747c44a77c7bcd40155683ae19c65e1c03b4aa3499c5328201f1"
   }
  }
 },
 "nbformat": 4,
 "nbformat_minor": 4
}
